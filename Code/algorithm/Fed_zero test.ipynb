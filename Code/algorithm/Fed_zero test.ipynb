{
 "cells": [
  {
   "cell_type": "code",
   "execution_count": 1,
   "id": "assumed-ranch",
   "metadata": {},
   "outputs": [],
   "source": [
    "import numpy as np\n",
    "import math"
   ]
  },
  {
   "cell_type": "code",
   "execution_count": 38,
   "id": "disturbed-theme",
   "metadata": {},
   "outputs": [],
   "source": [
    "def fedzero_weight(client_taken,bad_client,client_percent):\n",
    "    a= len(bad_client)\n",
    "    bad_client= np.sort(bad_client)\n",
    "    b= math.ceil(client_taken*client_percent)\n",
    "    weight= 1/(b-a)\n",
    "    weight_list=  np.full((b),weight)\n",
    "    j=0\n",
    "    if len(bad_client)>0:\n",
    "        for i in range(b):\n",
    "            if bad_client[j]==i:\n",
    "                weight_list[i]=0\n",
    "                if j<a-1:\n",
    "                    j=j+1\n",
    "    return weight_list"
   ]
  },
  {
   "cell_type": "code",
   "execution_count": 39,
   "id": "geographic-negotiation",
   "metadata": {},
   "outputs": [],
   "source": [
    "client_taken=10\n",
    "client_percent=1\n",
    "bad_client=[]"
   ]
  },
  {
   "cell_type": "code",
   "execution_count": 40,
   "id": "sought-local",
   "metadata": {},
   "outputs": [],
   "source": [
    "weight=fedzero_weight(client_taken,bad_client,client_percent)"
   ]
  },
  {
   "cell_type": "code",
   "execution_count": 41,
   "id": "incoming-quarter",
   "metadata": {},
   "outputs": [
    {
     "data": {
      "text/plain": [
       "array([0.1, 0.1, 0.1, 0.1, 0.1, 0.1, 0.1, 0.1, 0.1, 0.1])"
      ]
     },
     "execution_count": 41,
     "metadata": {},
     "output_type": "execute_result"
    }
   ],
   "source": [
    " weight"
   ]
  },
  {
   "cell_type": "code",
   "execution_count": null,
   "id": "palestinian-louis",
   "metadata": {},
   "outputs": [],
   "source": []
  }
 ],
 "metadata": {
  "kernelspec": {
   "display_name": "Python 3",
   "language": "python",
   "name": "python3"
  },
  "language_info": {
   "codemirror_mode": {
    "name": "ipython",
    "version": 3
   },
   "file_extension": ".py",
   "mimetype": "text/x-python",
   "name": "python",
   "nbconvert_exporter": "python",
   "pygments_lexer": "ipython3",
   "version": "3.8.5"
  }
 },
 "nbformat": 4,
 "nbformat_minor": 5
}
